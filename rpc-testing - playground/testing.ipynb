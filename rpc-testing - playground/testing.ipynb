{
 "cells": [
  {
   "cell_type": "code",
   "execution_count": 4,
   "metadata": {},
   "outputs": [],
   "source": [
    "from solana.rpc.async_api import AsyncClient\n",
    "from solana.rpc.websocket_api import connect\n",
    "from solders.signature import Signature # type: ignore\n",
    "from solders.pubkey import Pubkey # type: ignore\n",
    "from colorama import Fore, init\n",
    "import json, time, asyncio, sys"
   ]
  },
  {
   "cell_type": "code",
   "execution_count": 5,
   "metadata": {},
   "outputs": [],
   "source": [
    "client = AsyncClient(\"https://api.mainnet-beta.solana.com\")"
   ]
  },
  {
   "cell_type": "code",
   "execution_count": 18,
   "metadata": {},
   "outputs": [],
   "source": [
    "async def func():\n",
    "    print(await client.get_signatures_for_address(Pubkey.from_string(\"HToXKDG27DkuR6TLvpFNgBLiHBEsfrE4ruqwtHUDJ1ML\"), limit=10))\n"
   ]
  },
  {
   "cell_type": "code",
   "execution_count": 19,
   "metadata": {},
   "outputs": [
    {
     "ename": "RuntimeError",
     "evalue": "asyncio.run() cannot be called from a running event loop",
     "output_type": "error",
     "traceback": [
      "\u001b[0;31m---------------------------------------------------------------------------\u001b[0m",
      "\u001b[0;31mRuntimeError\u001b[0m                              Traceback (most recent call last)",
      "Cell \u001b[0;32mIn[19], line 1\u001b[0m\n\u001b[0;32m----> 1\u001b[0m \u001b[43masyncio\u001b[49m\u001b[38;5;241;43m.\u001b[39;49m\u001b[43mrun\u001b[49m\u001b[43m(\u001b[49m\u001b[43mfunc\u001b[49m\u001b[43m(\u001b[49m\u001b[43m)\u001b[49m\u001b[43m)\u001b[49m\n",
      "File \u001b[0;32m/opt/homebrew/Cellar/python@3.11/3.11.7_2/Frameworks/Python.framework/Versions/3.11/lib/python3.11/asyncio/runners.py:186\u001b[0m, in \u001b[0;36mrun\u001b[0;34m(main, debug)\u001b[0m\n\u001b[1;32m    161\u001b[0m \u001b[38;5;250m\u001b[39m\u001b[38;5;124;03m\"\"\"Execute the coroutine and return the result.\u001b[39;00m\n\u001b[1;32m    162\u001b[0m \n\u001b[1;32m    163\u001b[0m \u001b[38;5;124;03mThis function runs the passed coroutine, taking care of\u001b[39;00m\n\u001b[0;32m   (...)\u001b[0m\n\u001b[1;32m    182\u001b[0m \u001b[38;5;124;03m    asyncio.run(main())\u001b[39;00m\n\u001b[1;32m    183\u001b[0m \u001b[38;5;124;03m\"\"\"\u001b[39;00m\n\u001b[1;32m    184\u001b[0m \u001b[38;5;28;01mif\u001b[39;00m events\u001b[38;5;241m.\u001b[39m_get_running_loop() \u001b[38;5;129;01mis\u001b[39;00m \u001b[38;5;129;01mnot\u001b[39;00m \u001b[38;5;28;01mNone\u001b[39;00m:\n\u001b[1;32m    185\u001b[0m     \u001b[38;5;66;03m# fail fast with short traceback\u001b[39;00m\n\u001b[0;32m--> 186\u001b[0m     \u001b[38;5;28;01mraise\u001b[39;00m \u001b[38;5;167;01mRuntimeError\u001b[39;00m(\n\u001b[1;32m    187\u001b[0m         \u001b[38;5;124m\"\u001b[39m\u001b[38;5;124masyncio.run() cannot be called from a running event loop\u001b[39m\u001b[38;5;124m\"\u001b[39m)\n\u001b[1;32m    189\u001b[0m \u001b[38;5;28;01mwith\u001b[39;00m Runner(debug\u001b[38;5;241m=\u001b[39mdebug) \u001b[38;5;28;01mas\u001b[39;00m runner:\n\u001b[1;32m    190\u001b[0m     \u001b[38;5;28;01mreturn\u001b[39;00m runner\u001b[38;5;241m.\u001b[39mrun(main)\n",
      "\u001b[0;31mRuntimeError\u001b[0m: asyncio.run() cannot be called from a running event loop"
     ]
    }
   ],
   "source": [
    "asyncio.run(func())"
   ]
  },
  {
   "cell_type": "code",
   "execution_count": 2,
   "metadata": {},
   "outputs": [],
   "source": [
    "import base58"
   ]
  },
  {
   "cell_type": "code",
   "execution_count": 16,
   "metadata": {},
   "outputs": [
    {
     "name": "stdout",
     "output_type": "stream",
     "text": [
      "Fetching transaction\n",
      "Accounts : ['TokenkegQfeZyiNwAJbNbGKPFXCWuBvf9Ss623VQ5DA', 'ATokenGPvbdGVxr1b2hvZbsiqW5xWH25efTNsLJA8knL', '11111111111111111111111111111111', 'SysvarRent111111111111111111111111111111111', 'AujyNF5W3AXxuov1fNnNwJLhQESjraurYqVBewB1NYUz', '5Q544fKrFoe6tsEbD7S8EmxGTJYAKtTVhAW5Q5pge4j1', 'YBtTzhdDKj7tRv7MPhP7CWzART6S4U8upyqKU7TTK3D', 'FAFFd7TPjr57ab4iC77tw2PHvHU9pXZG8vLoQ4sfBVKf', '4WHQhj2e8wFo6Mre3vaJV3cLwE4GLkyLCfAmCc7sPtWP', 'So11111111111111111111111111111111111111112', 'HBJJJgKBKCsMWQnxcMBvdFqNGYDrdaaMdxBsPHjRvrwe', '2XU9L5AMyVoxjE4xi4SpjZCraXSVkUGQkzUBQr7VEqE9', '3g9PL2DhsHDC3ttZMdmQ4Gj9DjPmH75w3vkCVH5rU4Xx', '9DCxsMizn3H1hprZ7xWe6LDzeUeZBksYFpBWBtSf1PQX', '7YttLkHDoNj9wyDur5pM1ejNaAvT9X4eqaYcHQqtj2G5', 'srmqPvymJeFKQ4zGQed1GFppgkRHL9kaELCbyksJtPX', '3E2MdKCjmkbS5bDhpU3A7hSVWDDLpYNn4BDDngk6zrDD', 'CCK3tpwcz7NZg2aK9E5E4aNFyGrTULfuPMpx1f4SwH3q', '71AnauZeiUCfS1BtG8jB1Gk9oPhToZeWenLGSgCk15uZ', 'eTUtmg2E2USZJmMrv9KUTXDguwPnBtjzFrQ6MWpxiNq', '5Up4FPPPqr49BgysLsE4LtjPrV9mFsDgCoh87tgN4oJy']\n"
     ]
    }
   ],
   "source": [
    "import logging\n",
    "from solders.signature import Signature\n",
    "signature = \"hhqQgLtX2SVYeYUFDxRTzurMEaKP3heddTEsPfXM9u9gZDneNkUFPWpUCMGGA2D8PpHxQTTgWQkNKtG5HRfMWo5\"\n",
    "ctx = AsyncClient(\"https://api.mainnet-beta.solana.com\")\n",
    "RAYDIUM_PUBLIC_KEY_STRING = \"675kPX9MHTjS2zt1qfr1NYHuzeLXfQM9H24wFSUt1Mp8\"\n",
    "\n",
    "\n",
    "parsed_tx = None\n",
    "\n",
    "try:\n",
    "    print(\"Fetching transaction\")\n",
    "    transaction = await ctx.get_transaction(Signature.from_string(signature), max_supported_transaction_version=0, commitment=\"confirmed\",encoding=\"jsonParsed\")\n",
    "    parsed_tx = json.loads(transaction.to_json())\n",
    "\n",
    "except Exception as e:\n",
    "    print(e)\n",
    "    logging.error(f\"Error fetching transaction: {e}\")\n",
    "\n",
    "\n",
    "accounts = []\n",
    "for instruction in parsed_tx[\"result\"][\"transaction\"][\"message\"][\"instructions\"]:\n",
    "    if instruction[\"programId\"] == RAYDIUM_PUBLIC_KEY_STRING:\n",
    "        accounts = instruction[\"accounts\"]\n",
    "        logging.info(True)\n",
    "        break\n",
    "\n",
    "if len(accounts) == 0:\n",
    "    #print(parsed_tx[\"result\"][\"transaction\"][\"message\"][\"instructions\"])\n",
    "    print(\"No accounts found\")\n",
    "\n",
    "else:\n",
    "    print(\"Accounts : \" + str(accounts))\n"
   ]
  },
  {
   "cell_type": "code",
   "execution_count": null,
   "metadata": {},
   "outputs": [],
   "source": []
  }
 ],
 "metadata": {
  "kernelspec": {
   "display_name": "Python 3",
   "language": "python",
   "name": "python3"
  },
  "language_info": {
   "codemirror_mode": {
    "name": "ipython",
    "version": 3
   },
   "file_extension": ".py",
   "mimetype": "text/x-python",
   "name": "python",
   "nbconvert_exporter": "python",
   "pygments_lexer": "ipython3",
   "version": "3.12.3"
  }
 },
 "nbformat": 4,
 "nbformat_minor": 2
}
