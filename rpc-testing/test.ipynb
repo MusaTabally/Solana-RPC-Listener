{
 "cells": [
  {
   "cell_type": "code",
   "execution_count": 194,
   "metadata": {},
   "outputs": [],
   "source": [
    "from solana.rpc.api import Client\n",
    "from solana.exceptions import handle_exceptions\n",
    "from solders.signature import Signature\n",
    "import json\n",
    "from time import sleep"
   ]
  },
  {
   "cell_type": "code",
   "execution_count": 193,
   "metadata": {},
   "outputs": [],
   "source": [
    "url = \"wss://billowing-floral-flower.solana-mainnet.quiknode.pro/c5561d7ec44db4bf3acb5b6a97ece6f8691968db/\"\n",
    "client = Client(url)"
   ]
  },
  {
   "cell_type": "code",
   "execution_count": 73,
   "metadata": {},
   "outputs": [],
   "source": [
    "sig = Signature.from_string(\"4bou6vi8wv2uG1aNGSn85UB8kMRB44duAmujjUHAQhWR78AKxaFLXHieDiAcZ71opRYhyDRdSZTpSe7Y4631W6X8\")"
   ]
  },
  {
   "cell_type": "code",
   "execution_count": 74,
   "metadata": {},
   "outputs": [
    {
     "name": "stdout",
     "output_type": "stream",
     "text": [
      "{\"slot\":263389080,\"transaction\":{\"signatures\":[\"4bou6vi8wv2uG1aNGSn85UB8kMRB44duAmujjUHAQhWR78AKxaFLXHieDiAcZ71opRYhyDRdSZTpSe7Y4631W6X8\"],\"message\":{\"header\":{\"numRequiredSignatures\":1,\"numReadonlySignedAccounts\":0,\"numReadonlyUnsignedAccounts\":9},\"accountKeys\":[\"6yxfUQN15th4UpmCsdKPahW9fU9BSY3SBU5ecEpFBVRB\",\"2Nq3THyfWeWYa9NS8Jwvsk2TQawh1Lc8xxaTzG1qPeJD\",\"2zd4UmMPGvkAn2RYMXhwQ4WMLgJaWcKXLdpbJ6FV1X1m\",\"6CKP6ZM3qmBRPU6nF6XJahrNd2N1LJaMcghHMBM6EyDE\",\"At2aSYt5YigdmjgzSDjFv8usFhMU3QnGwFwnFdnS4S6j\",\"DFvKmk1dwaw4UPakPAeVPXCjGpnVYRrAMMfgKrrQYaV3\",\"DVmeGCg15HsGgmKAZBQDrQTMzympXumfQPexik5VuSsa\",\"11111111111111111111111111111111\",\"A1rf29i5GMAG8Teoc2QdRgHZQiQ37KYFCxN5LJkzjkz4\",\"ATokenGPvbdGVxr1b2hvZbsiqW5xWH25efTNsLJA8knL\",\"ComputeBudget111111111111111111111111111111\",\"GGFYWurfsdSM5vyK9QrWDgJknuuF9XNc5vaEbVGKahf1\",\"metaqbxxUerdq28cj1RbAWkYQm3ybzjb6a8bt518x1s\",\"Sysvar1nstructions1111111111111111111111111\",\"SysvarRent111111111111111111111111111111111\",\"TokenkegQfeZyiNwAJbNbGKPFXCWuBvf9Ss623VQ5DA\"],\"recentBlockhash\":\"6mEnEdjcjMuo9zFr3YUF1WQHiEP5RatqHN9wNwedw35j\",\"instructions\":[{\"programIdIndex\":10,\"accounts\":[],\"data\":\"3gJqkocMWaMm\",\"stackHeight\":null},{\"programIdIndex\":8,\"accounts\":[0,6,4,2,5,3,1,11,15,7,12,9,14,13],\"data\":\"EKaszp5QB1XfD9Uw7eCTunSfz1zY5jrgq85kvzUgK5Po9cNBzJkP8FvYJFY8agN3RF6UwqBdV3DDpAfuSUyV2YMDnWpvEe7qm7W3qkU99gx8uoAvyypD31fQAni4GKnqhsM61WRpqL4RV4NZEVfbhsPPkpZa\",\"stackHeight\":null},{\"programIdIndex\":10,\"accounts\":[],\"data\":\"EvSMNP\",\"stackHeight\":null}]}},\"meta\":{\"err\":null,\"status\":{\"Ok\":null},\"fee\":55000,\"preBalances\":[849608980,0,0,0,770700000000,0,1183200,1,1141440,731913600,1,1461600,1141440,0,1009200,934087680],\"postBalances\":[127582780,15616720,1461600,2853600,771400000000,2039280,1183200,1,1141440,731913600,1,1461600,1141440,0,1009200,934087680],\"innerInstructions\":[{\"index\":1,\"instructions\":[{\"programIdIndex\":7,\"accounts\":[0,2],\"data\":\"11114XtYk9gGfZoo968fyjNUYQJKf9gdmkGoaoBpzFv4vyaSMBn3VKxZdv7mZLzoyX5YNC\",\"stackHeight\":2},{\"programIdIndex\":15,\"accounts\":[2],\"data\":\"bPNTcdK6hqacvz79EdfVWGLSDUsoSd6GqvG1TjjZ8jykN4CgM1gg6dRTr8mdwDzpDHDhRSiW2S8X28t3fA6WRZQcDNZ\",\"stackHeight\":2},{\"programIdIndex\":9,\"accounts\":[0,5,0,2,7,15],\"data\":\"1\",\"stackHeight\":2},{\"programIdIndex\":15,\"accounts\":[2],\"data\":\"84eT\",\"stackHeight\":3},{\"programIdIndex\":7,\"accounts\":[0,5],\"data\":\"11119os1e9qSs2u7TsThXqkBSRVFxhmYaFKFZ1waB2X7armDmvK3p5GmLdUxYdg3h7QSrL\",\"stackHeight\":3},{\"programIdIndex\":15,\"accounts\":[5],\"data\":\"P\",\"stackHeight\":3},{\"programIdIndex\":15,\"accounts\":[5,2],\"data\":\"6T7fLQbtoNjxtkJrixnWj4fwYAMizrHK8tPFW6pW4Udr9\",\"stackHeight\":3},{\"programIdIndex\":7,\"accounts\":[0,4],\"data\":\"3Bxs3ztAZRMjaALf\",\"stackHeight\":2},{\"programIdIndex\":15,\"accounts\":[2,5,0],\"data\":\"6AuM4xMCPFhR\",\"stackHeight\":2},{\"programIdIndex\":12,\"accounts\":[1,3,2,0,0,0,7,13,15],\"data\":\"4URibx5SqEDRDBfxiF7SrnETXCiHtv3jjEgeQ912J6YV8MXiyXExCq54JKRwAUkczTVNH16HeERUVqqrYfSR2cDSQiD19NPfwHTpihyjWCR2eqvMNdvB7MRh4ySfncJkmNaqUYep1MCue1W9E2N9DAf6hS4EerhLXbkuTvQMDG45bLznt7bYbRDkb66qvfeX9T83ZX5k3\",\"stackHeight\":2},{\"programIdIndex\":7,\"accounts\":[0,1],\"data\":\"3Bxs4bhMrSrmPkVD\",\"stackHeight\":3},{\"programIdIndex\":7,\"accounts\":[1],\"data\":\"9krTDUMpjBo4wxLP\",\"stackHeight\":3},{\"programIdIndex\":7,\"accounts\":[1],\"data\":\"SYXsBkG6yKW2wWDcW8EDHR6D3P82bKxJGPpM65DD8nHqBfMP\",\"stackHeight\":3},{\"programIdIndex\":7,\"accounts\":[0,3],\"data\":\"3Bxs4eQycKRh4Ddq\",\"stackHeight\":3},{\"programIdIndex\":7,\"accounts\":[3],\"data\":\"9krTD4mugk78aJTZ\",\"stackHeight\":3},{\"programIdIndex\":7,\"accounts\":[3],\"data\":\"SYXsBkG6yKW2wWDcW8EDHR6D3P82bKxJGPpM65DD8nHqBfMP\",\"stackHeight\":3},{\"programIdIndex\":15,\"accounts\":[2,0,0],\"data\":\"bixwNtAu6M1aALyPkALjgJ9eqWfCcnTD9yEnqWQzELnSrtt\",\"stackHeight\":3},{\"programIdIndex\":15,\"accounts\":[2,0,0],\"data\":\"bkGz9y3y2napF7hQrdGtbk3BLrBB3XBvS3SbshfL3fGehuW\",\"stackHeight\":3},{\"programIdIndex\":12,\"accounts\":[1,0],\"data\":\"WAAmWCS6fUSaXcTASZ36d5E57TcfCtykBQB3C28T2UwiSFzdKu\",\"stackHeight\":2}]}],\"logMessages\":[\"Program ComputeBudget111111111111111111111111111111 invoke [1]\",\"Program ComputeBudget111111111111111111111111111111 success\",\"Program A1rf29i5GMAG8Teoc2QdRgHZQiQ37KYFCxN5LJkzjkz4 invoke [1]\",\"Program log: Instruction: MintNft\",\"Program 11111111111111111111111111111111 invoke [2]\",\"Program 11111111111111111111111111111111 success\",\"Program TokenkegQfeZyiNwAJbNbGKPFXCWuBvf9Ss623VQ5DA invoke [2]\",\"Program log: Instruction: InitializeMint2\",\"Program TokenkegQfeZyiNwAJbNbGKPFXCWuBvf9Ss623VQ5DA consumed 2828 of 485514 compute units\",\"Program TokenkegQfeZyiNwAJbNbGKPFXCWuBvf9Ss623VQ5DA success\",\"Program ATokenGPvbdGVxr1b2hvZbsiqW5xWH25efTNsLJA8knL invoke [2]\",\"Program log: Create\",\"Program TokenkegQfeZyiNwAJbNbGKPFXCWuBvf9Ss623VQ5DA invoke [3]\",\"Program log: Instruction: GetAccountDataSize\",\"Program TokenkegQfeZyiNwAJbNbGKPFXCWuBvf9Ss623VQ5DA consumed 1622 of 458418 compute units\",\"Program return: TokenkegQfeZyiNwAJbNbGKPFXCWuBvf9Ss623VQ5DA pQAAAAAAAAA=\",\"Program TokenkegQfeZyiNwAJbNbGKPFXCWuBvf9Ss623VQ5DA success\",\"Program 11111111111111111111111111111111 invoke [3]\",\"Program 11111111111111111111111111111111 success\",\"Program log: Initialize the associated token account\",\"Program TokenkegQfeZyiNwAJbNbGKPFXCWuBvf9Ss623VQ5DA invoke [3]\",\"Program log: Instruction: InitializeImmutableOwner\",\"Program log: Please upgrade to SPL Token 2022 for immutable owner support\",\"Program TokenkegQfeZyiNwAJbNbGKPFXCWuBvf9Ss623VQ5DA consumed 1405 of 451778 compute units\",\"Program TokenkegQfeZyiNwAJbNbGKPFXCWuBvf9Ss623VQ5DA success\",\"Program TokenkegQfeZyiNwAJbNbGKPFXCWuBvf9Ss623VQ5DA invoke [3]\",\"Program log: Instruction: InitializeAccount3\",\"Program TokenkegQfeZyiNwAJbNbGKPFXCWuBvf9Ss623VQ5DA consumed 4241 of 447896 compute units\",\"Program TokenkegQfeZyiNwAJbNbGKPFXCWuBvf9Ss623VQ5DA success\",\"Program ATokenGPvbdGVxr1b2hvZbsiqW5xWH25efTNsLJA8knL consumed 26443 of 469815 compute units\",\"Program ATokenGPvbdGVxr1b2hvZbsiqW5xWH25efTNsLJA8knL success\",\"Program 11111111111111111111111111111111 invoke [2]\",\"Program 11111111111111111111111111111111 success\",\"Program TokenkegQfeZyiNwAJbNbGKPFXCWuBvf9Ss623VQ5DA invoke [2]\",\"Program log: Instruction: MintTo\",\"Program TokenkegQfeZyiNwAJbNbGKPFXCWuBvf9Ss623VQ5DA consumed 4538 of 422642 compute units\",\"Program TokenkegQfeZyiNwAJbNbGKPFXCWuBvf9Ss623VQ5DA success\",\"Program metaqbxxUerdq28cj1RbAWkYQm3ybzjb6a8bt518x1s invoke [2]\",\"Program log: IX: Create\",\"Program 11111111111111111111111111111111 invoke [3]\",\"Program 11111111111111111111111111111111 success\",\"Program log: Allocate space for the account\",\"Program 11111111111111111111111111111111 invoke [3]\",\"Program 11111111111111111111111111111111 success\",\"Program log: Assign the account to the owning program\",\"Program 11111111111111111111111111111111 invoke [3]\",\"Program 11111111111111111111111111111111 success\",\"Program log: Transfer 2853600 lamports to the new account\",\"Program 11111111111111111111111111111111 invoke [3]\",\"Program 11111111111111111111111111111111 success\",\"Program log: Allocate space for the account\",\"Program 11111111111111111111111111111111 invoke [3]\",\"Program 11111111111111111111111111111111 success\",\"Program log: Assign the account to the owning program\",\"Program 11111111111111111111111111111111 invoke [3]\",\"Program 11111111111111111111111111111111 success\",\"Program TokenkegQfeZyiNwAJbNbGKPFXCWuBvf9Ss623VQ5DA invoke [3]\",\"Program log: Instruction: SetAuthority\",\"Program TokenkegQfeZyiNwAJbNbGKPFXCWuBvf9Ss623VQ5DA consumed 3090 of 345579 compute units\",\"Program TokenkegQfeZyiNwAJbNbGKPFXCWuBvf9Ss623VQ5DA success\",\"Program TokenkegQfeZyiNwAJbNbGKPFXCWuBvf9Ss623VQ5DA invoke [3]\",\"Program log: Instruction: SetAuthority\",\"Program TokenkegQfeZyiNwAJbNbGKPFXCWuBvf9Ss623VQ5DA consumed 3250 of 339109 compute units\",\"Program TokenkegQfeZyiNwAJbNbGKPFXCWuBvf9Ss623VQ5DA success\",\"Program metaqbxxUerdq28cj1RbAWkYQm3ybzjb6a8bt518x1s consumed 84487 of 413659 compute units\",\"Program metaqbxxUerdq28cj1RbAWkYQm3ybzjb6a8bt518x1s success\",\"Program metaqbxxUerdq28cj1RbAWkYQm3ybzjb6a8bt518x1s invoke [2]\",\"Program log: IX: Update Metadata Accounts v2\",\"Program metaqbxxUerdq28cj1RbAWkYQm3ybzjb6a8bt518x1s consumed 16414 of 327047 compute units\",\"Program metaqbxxUerdq28cj1RbAWkYQm3ybzjb6a8bt518x1s success\",\"Program A1rf29i5GMAG8Teoc2QdRgHZQiQ37KYFCxN5LJkzjkz4 consumed 190069 of 499850 compute units\",\"Program A1rf29i5GMAG8Teoc2QdRgHZQiQ37KYFCxN5LJkzjkz4 success\",\"Program ComputeBudget111111111111111111111111111111 invoke [1]\",\"Program ComputeBudget111111111111111111111111111111 success\"],\"preTokenBalances\":[],\"postTokenBalances\":[{\"accountIndex\":5,\"mint\":\"2zd4UmMPGvkAn2RYMXhwQ4WMLgJaWcKXLdpbJ6FV1X1m\",\"uiTokenAmount\":{\"uiAmount\":1.0,\"decimals\":0,\"amount\":\"1\",\"uiAmountString\":\"1\"},\"owner\":\"6yxfUQN15th4UpmCsdKPahW9fU9BSY3SBU5ecEpFBVRB\",\"programId\":\"TokenkegQfeZyiNwAJbNbGKPFXCWuBvf9Ss623VQ5DA\"}],\"rewards\":[],\"loadedAddresses\":{\"writable\":[],\"readonly\":[]},\"computeUnitsConsumed\":190369},\"version\":\"legacy\",\"blockTime\":1714623329}\n"
     ]
    }
   ],
   "source": [
    "res = client.get_transaction(sig, max_supported_transaction_version=1)\n",
    "print(res.value.to_json())"
   ]
  },
  {
   "cell_type": "markdown",
   "metadata": {},
   "source": []
  },
  {
   "cell_type": "code",
   "execution_count": 75,
   "metadata": {},
   "outputs": [
    {
     "data": {
      "text/plain": [
       "1714623329"
      ]
     },
     "execution_count": 75,
     "metadata": {},
     "output_type": "execute_result"
    }
   ],
   "source": [
    "res.value.block_time"
   ]
  },
  {
   "cell_type": "code",
   "execution_count": 81,
   "metadata": {},
   "outputs": [
    {
     "name": "stdout",
     "output_type": "stream",
     "text": [
      "{\n",
      "  \"accountIndex\": 5,\n",
      "  \"mint\": \"2zd4UmMPGvkAn2RYMXhwQ4WMLgJaWcKXLdpbJ6FV1X1m\",\n",
      "  \"uiTokenAmount\": {\n",
      "    \"uiAmount\": 1.0,\n",
      "    \"decimals\": 0,\n",
      "    \"amount\": \"1\",\n",
      "    \"uiAmountString\": \"1\"\n",
      "  },\n",
      "  \"owner\": \"6yxfUQN15th4UpmCsdKPahW9fU9BSY3SBU5ecEpFBVRB\",\n",
      "  \"programId\": \"TokenkegQfeZyiNwAJbNbGKPFXCWuBvf9Ss623VQ5DA\"\n",
      "}\n"
     ]
    }
   ],
   "source": [
    "parsed_res = json.loads(res.value.to_json())\n",
    "post_token_balances = parsed_res[\"meta\"][\"postTokenBalances\"]\n",
    "for _ in post_token_balances:\n",
    "    print(json.dumps(_, indent=2))"
   ]
  },
  {
   "cell_type": "code",
   "execution_count": 82,
   "metadata": {},
   "outputs": [],
   "source": []
  },
  {
   "cell_type": "code",
   "execution_count": 189,
   "metadata": {},
   "outputs": [
    {
     "data": {
      "text/plain": [
       "{'token_address': 'FbYUT6ZGk3HLfTa1ZU1DBiscKMX88Qfv7vbBn12PcpXY',\n",
       " 'owner': 'DkD2qrgNtd3tMXsnGChhaA7F9RiMVGjaCssX6XPK5cko',\n",
       " 'initial_supply': '281956443597433',\n",
       " 'decimals': 9,\n",
       " 'mint': 'FbYUT6ZGk3HLfTa1ZU1DBiscKMX88Qfv7vbBn12PcpXY'}"
      ]
     },
     "execution_count": 189,
     "metadata": {},
     "output_type": "execute_result"
    }
   ],
   "source": [
    "def token_meta_from_transaction(transaction_signature: Signature):    \n",
    "    data = {\n",
    "        \"token_address\": \"\",\n",
    "        \"owner\": \"\",\n",
    "        \"initial_supply\": \"\",\n",
    "        \"decimals\": \"\",\n",
    "        \"mint\": \"\"\n",
    "    }\n",
    "    res = json.loads(client.get_transaction(sig, max_supported_transaction_version=1).value.to_json())\n",
    "    post_token_balances = res.get(\"meta\", {}).get(\"postTokenBalances\", [])\n",
    "    for i in range(len(post_token_balances)):\n",
    "        data[\"token_address\"] = post_token_balances[i].get(\"mint\")\n",
    "        data[\"owner\"] = post_token_balances[i].get(\"owner\")\n",
    "        data[\"initial_supply\"] = post_token_balances[i].get(\"uiTokenAmount\").get(\"amount\")\n",
    "        data[\"decimals\"] = post_token_balances[i].get(\"uiTokenAmount\").get(\"decimals\")\n",
    "        data[\"mint\"] = post_token_balances[i].get(\"mint\")\n",
    "    return data\n",
    "token_meta_from_transaction(Signature.from_string(\"2YvK9nE2i75WusdHAu8m436ZyhrKjbNq9AReWScvBWJNdHHcDxtkj9DbjooybF1RqjU1ZPQKMHau6KjDgCgVTSzf\"))"
   ]
  },
  {
   "cell_type": "code",
   "execution_count": 142,
   "metadata": {},
   "outputs": [
    {
     "name": "stdout",
     "output_type": "stream",
     "text": [
      "{'accountIndex': 5, 'mint': 'CuKYCgD6brforLh3AMgfgSEo684pWp5kbwkfL9mSsi2P', 'uiTokenAmount': {'uiAmount': 1000000000.0, 'decimals': 9, 'amount': '1000000000000000000', 'uiAmountString': '1000000000'}, 'owner': '5Q544fKrFoe6tsEbD7S8EmxGTJYAKtTVhAW5Q5pge4j1', 'programId': 'TokenkegQfeZyiNwAJbNbGKPFXCWuBvf9Ss623VQ5DA'}\n",
      "Token 0\n"
     ]
    },
    {
     "ename": "KeyError",
     "evalue": "0",
     "output_type": "error",
     "traceback": [
      "\u001b[0;31m---------------------------------------------------------------------------\u001b[0m",
      "\u001b[0;31mKeyError\u001b[0m                                  Traceback (most recent call last)",
      "Cell \u001b[0;32mIn[142], line 1\u001b[0m\n\u001b[0;32m----> 1\u001b[0m \u001b[43mtoken_meta_from_transaction\u001b[49m\u001b[43m(\u001b[49m\u001b[43mSignature\u001b[49m\u001b[38;5;241;43m.\u001b[39;49m\u001b[43mfrom_string\u001b[49m\u001b[43m(\u001b[49m\u001b[38;5;124;43m\"\u001b[39;49m\u001b[38;5;124;43m2YvK9nE2i75WusdHAu8m436ZyhrKjbNq9AReWScvBWJNdHHcDxtkj9DbjooybF1RqjU1ZPQKMHau6KjDgCgVTSzf\u001b[39;49m\u001b[38;5;124;43m\"\u001b[39;49m\u001b[43m)\u001b[49m\u001b[43m)\u001b[49m\n",
      "Cell \u001b[0;32mIn[141], line 8\u001b[0m, in \u001b[0;36mtoken_meta_from_transaction\u001b[0;34m(transaction_signature)\u001b[0m\n\u001b[1;32m      6\u001b[0m \u001b[38;5;28mprint\u001b[39m(_)\n\u001b[1;32m      7\u001b[0m \u001b[38;5;28mprint\u001b[39m(\u001b[38;5;124mf\u001b[39m\u001b[38;5;124m\"\u001b[39m\u001b[38;5;124mToken \u001b[39m\u001b[38;5;132;01m{\u001b[39;00mi\u001b[38;5;132;01m}\u001b[39;00m\u001b[38;5;124m\"\u001b[39m)\n\u001b[0;32m----> 8\u001b[0m \u001b[43mdata\u001b[49m\u001b[43m[\u001b[49m\u001b[43mi\u001b[49m\u001b[43m]\u001b[49m[\u001b[38;5;124m\"\u001b[39m\u001b[38;5;124mtoken_address\u001b[39m\u001b[38;5;124m\"\u001b[39m] \u001b[38;5;241m=\u001b[39m _[\u001b[38;5;124m\"\u001b[39m\u001b[38;5;124mmint\u001b[39m\u001b[38;5;124m\"\u001b[39m]\n\u001b[1;32m      9\u001b[0m data[i][\u001b[38;5;124m\"\u001b[39m\u001b[38;5;124mowner\u001b[39m\u001b[38;5;124m\"\u001b[39m] \u001b[38;5;241m=\u001b[39m _[\u001b[38;5;124m\"\u001b[39m\u001b[38;5;124mowner\u001b[39m\u001b[38;5;124m\"\u001b[39m]\n\u001b[1;32m     10\u001b[0m data[i][\u001b[38;5;124m\"\u001b[39m\u001b[38;5;124minitial_supply\u001b[39m\u001b[38;5;124m\"\u001b[39m] \u001b[38;5;241m=\u001b[39m _[\u001b[38;5;124m\"\u001b[39m\u001b[38;5;124muiTokenAmount\u001b[39m\u001b[38;5;124m\"\u001b[39m][\u001b[38;5;124m\"\u001b[39m\u001b[38;5;124mamount\u001b[39m\u001b[38;5;124m\"\u001b[39m]\n",
      "\u001b[0;31mKeyError\u001b[0m: 0"
     ]
    }
   ],
   "source": []
  },
  {
   "cell_type": "code",
   "execution_count": null,
   "metadata": {},
   "outputs": [],
   "source": []
  },
  {
   "cell_type": "code",
   "execution_count": 195,
   "metadata": {},
   "outputs": [
    {
     "name": "stdout",
     "output_type": "stream",
     "text": [
      "{'token_address': 'FbYUT6ZGk3HLfTa1ZU1DBiscKMX88Qfv7vbBn12PcpXY', 'owner': 'DkD2qrgNtd3tMXsnGChhaA7F9RiMVGjaCssX6XPK5cko', 'initial_supply': '281956443597433', 'decimals': 9, 'mint': 'FbYUT6ZGk3HLfTa1ZU1DBiscKMX88Qfv7vbBn12PcpXY'}\n",
      "{'token_address': 'FbYUT6ZGk3HLfTa1ZU1DBiscKMX88Qfv7vbBn12PcpXY', 'owner': 'DkD2qrgNtd3tMXsnGChhaA7F9RiMVGjaCssX6XPK5cko', 'initial_supply': '281956443597433', 'decimals': 9, 'mint': 'FbYUT6ZGk3HLfTa1ZU1DBiscKMX88Qfv7vbBn12PcpXY'}\n",
      "{'token_address': 'GjT13Z3CGqx9E5WqXLdWR3z4N39iD39p3SVqnDEoLRy6', 'owner': '3cMv7dWZ1SMNMpEXXGqYkw7queQe4yabkSYhR1eSJ4cM', 'initial_supply': '1', 'decimals': 0, 'mint': 'GjT13Z3CGqx9E5WqXLdWR3z4N39iD39p3SVqnDEoLRy6'}\n",
      "{'token_address': 'GjT13Z3CGqx9E5WqXLdWR3z4N39iD39p3SVqnDEoLRy6', 'owner': '3cMv7dWZ1SMNMpEXXGqYkw7queQe4yabkSYhR1eSJ4cM', 'initial_supply': '1', 'decimals': 0, 'mint': 'GjT13Z3CGqx9E5WqXLdWR3z4N39iD39p3SVqnDEoLRy6'}\n",
      "{'token_address': 'GjT13Z3CGqx9E5WqXLdWR3z4N39iD39p3SVqnDEoLRy6', 'owner': '3cMv7dWZ1SMNMpEXXGqYkw7queQe4yabkSYhR1eSJ4cM', 'initial_supply': '1', 'decimals': 0, 'mint': 'GjT13Z3CGqx9E5WqXLdWR3z4N39iD39p3SVqnDEoLRy6'}\n",
      "{'token_address': 'HUNaz8SCQ2k3oLNA132JS32FJsxcop997U6ZjxZz38QB', 'owner': 'EXmVkHfesgrLLrHUWnFSzA24FsDd19kxDAEfC5UR1ymd', 'initial_supply': '2039116456155971', 'decimals': 9, 'mint': 'HUNaz8SCQ2k3oLNA132JS32FJsxcop997U6ZjxZz38QB'}\n",
      "{'token_address': 'HUNaz8SCQ2k3oLNA132JS32FJsxcop997U6ZjxZz38QB', 'owner': 'EXmVkHfesgrLLrHUWnFSzA24FsDd19kxDAEfC5UR1ymd', 'initial_supply': '2039116456155971', 'decimals': 9, 'mint': 'HUNaz8SCQ2k3oLNA132JS32FJsxcop997U6ZjxZz38QB'}\n",
      "{'token_address': 'EhPR7Fs4dwD6c9zd7AGBL1aSNWwvsazXNcSiK9ezJGar', 'owner': '3cMv7dWZ1SMNMpEXXGqYkw7queQe4yabkSYhR1eSJ4cM', 'initial_supply': '1', 'decimals': 0, 'mint': 'EhPR7Fs4dwD6c9zd7AGBL1aSNWwvsazXNcSiK9ezJGar'}\n",
      "{'token_address': '7LEHQJufKNQ3H9yfAP6nDBQ35v4uDnoT9Tr4TcmGfKKa', 'owner': 'zg4GiNSQj6CzuAGbDSvAXqb32pjpNntSuEyKyr3QRNA', 'initial_supply': '0', 'decimals': 6, 'mint': '7LEHQJufKNQ3H9yfAP6nDBQ35v4uDnoT9Tr4TcmGfKKa'}\n",
      "{'token_address': '4TbYW8FGgAzHFcwvGZHEuK6QzW9o6yGJHDBAPgdjysTi', 'owner': '9zH625ZdjD1bm8bgKK8DqCPizD7UE2zAtQhjmHyov4zq', 'initial_supply': '34612903225806', 'decimals': 6, 'mint': '4TbYW8FGgAzHFcwvGZHEuK6QzW9o6yGJHDBAPgdjysTi'}\n",
      "{'token_address': 'FahVnmA1taeqWAnR8UJToCLSAEBGEmNPkVoTSXdHYGdi', 'owner': 'BjMNJ6b2a6f2EwgEq4Uo4oe9nNYcvGMLfMu2p7qjiLAs', 'initial_supply': '300000000000000', 'decimals': 6, 'mint': 'FahVnmA1taeqWAnR8UJToCLSAEBGEmNPkVoTSXdHYGdi'}\n",
      "{'token_address': 'FahVnmA1taeqWAnR8UJToCLSAEBGEmNPkVoTSXdHYGdi', 'owner': 'BjMNJ6b2a6f2EwgEq4Uo4oe9nNYcvGMLfMu2p7qjiLAs', 'initial_supply': '300000000000000', 'decimals': 6, 'mint': 'FahVnmA1taeqWAnR8UJToCLSAEBGEmNPkVoTSXdHYGdi'}\n",
      "{'token_address': 'BdogNPmFCjWe9AS7qDYFpXEn2VKQkuqdF4SXb3JS2BcL', 'owner': 'DaVhhSrekYkm8U17ndxJyWyjVsdZCDWkudnWmA5ZgK2k', 'initial_supply': '54329113924050', 'decimals': 6, 'mint': 'BdogNPmFCjWe9AS7qDYFpXEn2VKQkuqdF4SXb3JS2BcL'}\n",
      "{'token_address': '3BsuaLkEc9QVPpkNcLHY1funbXN22dCxk5hTjRAGnM8X', 'owner': '4GykGAWro29NQAetfCXZxj1W8mkNaLxtdxo1sUfT2Q6n', 'initial_supply': '34612903225806', 'decimals': 6, 'mint': '3BsuaLkEc9QVPpkNcLHY1funbXN22dCxk5hTjRAGnM8X'}\n",
      "\n",
      "{'token_address': '3BsuaLkEc9QVPpkNcLHY1funbXN22dCxk5hTjRAGnM8X', 'owner': '4GykGAWro29NQAetfCXZxj1W8mkNaLxtdxo1sUfT2Q6n', 'initial_supply': '34612903225806', 'decimals': 6, 'mint': '3BsuaLkEc9QVPpkNcLHY1funbXN22dCxk5hTjRAGnM8X'}\n",
      "{'token_address': '8M5VEs7BWdhe9WkPjE1JwQKcGLUUoLzcn6dEPqncLTGv', 'owner': '6hX2U2T7DDWT7qSW85sXLTpA7fbcHoXWCuUhHTUS71Ex', 'initial_supply': '67062499999999', 'decimals': 6, 'mint': '8M5VEs7BWdhe9WkPjE1JwQKcGLUUoLzcn6dEPqncLTGv'}\n",
      "{'token_address': '8M5VEs7BWdhe9WkPjE1JwQKcGLUUoLzcn6dEPqncLTGv', 'owner': '6hX2U2T7DDWT7qSW85sXLTpA7fbcHoXWCuUhHTUS71Ex', 'initial_supply': '67062499999999', 'decimals': 6, 'mint': '8M5VEs7BWdhe9WkPjE1JwQKcGLUUoLzcn6dEPqncLTGv'}\n",
      "{'token_address': 'D3uJbhz4c9V4eM1rSv38Y9reF5K7rGacctubEN1iWWLd', 'owner': '6EEJRUB1uWuaHC9i5ZmTxi1XjgcSqbrmgUp9hrrFvfZj', 'initial_supply': '1', 'decimals': 0, 'mint': 'D3uJbhz4c9V4eM1rSv38Y9reF5K7rGacctubEN1iWWLd'}\n",
      "{'token_address': 'BDEPD7ZfnhDa9RS91kV1a6LnnUxpyed6tCjPeZcBPpgj', 'owner': '7DWtGF9JGu96XXMyPT4NJoryA6rygv6bZyqJWETAby3M', 'initial_supply': '1', 'decimals': 0, 'mint': 'BDEPD7ZfnhDa9RS91kV1a6LnnUxpyed6tCjPeZcBPpgj'}\n",
      "{'token_address': 'BDEPD7ZfnhDa9RS91kV1a6LnnUxpyed6tCjPeZcBPpgj', 'owner': '7DWtGF9JGu96XXMyPT4NJoryA6rygv6bZyqJWETAby3M', 'initial_supply': '1', 'decimals': 0, 'mint': 'BDEPD7ZfnhDa9RS91kV1a6LnnUxpyed6tCjPeZcBPpgj'}\n",
      "\n",
      "{'token_address': 'GPP5CGjom71R5qnm5owbeVfzWrtBpQuM3YfX8U1jB7XA', 'owner': '2Jk8S3hKqt7te6NqW4r1dq5k9LLn91apvi8zyamf1o2U', 'initial_supply': '1521333734763', 'decimals': 9, 'mint': 'GPP5CGjom71R5qnm5owbeVfzWrtBpQuM3YfX8U1jB7XA'}\n",
      "{'token_address': 'C8xkxeMoy6JD53WMmCoWfZFPK6rdhUYfQ4aJdR2uMY5J', 'owner': '3cMv7dWZ1SMNMpEXXGqYkw7queQe4yabkSYhR1eSJ4cM', 'initial_supply': '1', 'decimals': 0, 'mint': 'C8xkxeMoy6JD53WMmCoWfZFPK6rdhUYfQ4aJdR2uMY5J'}\n",
      "{'token_address': '2RWsw7yWzjUHmhmswFmLanFCZf72KVczD33YXj3t796M', 'owner': '3cMv7dWZ1SMNMpEXXGqYkw7queQe4yabkSYhR1eSJ4cM', 'initial_supply': '1', 'decimals': 0, 'mint': '2RWsw7yWzjUHmhmswFmLanFCZf72KVczD33YXj3t796M'}\n",
      "{'token_address': '2RWsw7yWzjUHmhmswFmLanFCZf72KVczD33YXj3t796M', 'owner': '3cMv7dWZ1SMNMpEXXGqYkw7queQe4yabkSYhR1eSJ4cM', 'initial_supply': '1', 'decimals': 0, 'mint': '2RWsw7yWzjUHmhmswFmLanFCZf72KVczD33YXj3t796M'}\n",
      "{'token_address': '7N8MCnejjJCEV8yWqQ3pggfWB8FS7EyLV93QXdsoE7xj', 'owner': '3cMv7dWZ1SMNMpEXXGqYkw7queQe4yabkSYhR1eSJ4cM', 'initial_supply': '1', 'decimals': 0, 'mint': '7N8MCnejjJCEV8yWqQ3pggfWB8FS7EyLV93QXdsoE7xj'}\n",
      "{'token_address': '7N8MCnejjJCEV8yWqQ3pggfWB8FS7EyLV93QXdsoE7xj', 'owner': '3cMv7dWZ1SMNMpEXXGqYkw7queQe4yabkSYhR1eSJ4cM', 'initial_supply': '1', 'decimals': 0, 'mint': '7N8MCnejjJCEV8yWqQ3pggfWB8FS7EyLV93QXdsoE7xj'}\n",
      "{'token_address': '7N8MCnejjJCEV8yWqQ3pggfWB8FS7EyLV93QXdsoE7xj', 'owner': '3cMv7dWZ1SMNMpEXXGqYkw7queQe4yabkSYhR1eSJ4cM', 'initial_supply': '1', 'decimals': 0, 'mint': '7N8MCnejjJCEV8yWqQ3pggfWB8FS7EyLV93QXdsoE7xj'}\n",
      "{'token_address': 'AHykVG7nB9sWuJZXbrYHRFWjk4N3gZ7PpE7cg164npxb', 'owner': 'AdorcEApU7r1yVmMf1vCzNFn27ZYHegPa2wkskqZNeR4', 'initial_supply': '1', 'decimals': 0, 'mint': 'AHykVG7nB9sWuJZXbrYHRFWjk4N3gZ7PpE7cg164npxb'}\n",
      "{'token_address': '7YFwFwrBbuwrCTiiuySyP4xSTy6kubmjoyP27dTTT64a', 'owner': '4BqdkjxM8u1vbbxEBmtG82LRDQU8kvm35e8AijiQKEvc', 'initial_supply': '62324960753532', 'decimals': 6, 'mint': '7YFwFwrBbuwrCTiiuySyP4xSTy6kubmjoyP27dTTT64a'}\n",
      "{'token_address': '6izpgjc6sdywmoFGbhuGjFwgDwjVoDVuMJ2FGmAmPw5X', 'owner': '8JBdQFPLJ5Y9BFJsFjk65cgoDpuJyTPGskJvT4nJcgqF', 'initial_supply': '26170731707317', 'decimals': 6, 'mint': '6izpgjc6sdywmoFGbhuGjFwgDwjVoDVuMJ2FGmAmPw5X'}\n",
      "{'token_address': 'HZ1JovNiVvGrGNiiYvEozEVgZ58xaU3RKwX8eACQBCt3', 'owner': '8erNF5u3CHrqZJXtkfY8CjSxFYF1yqHmN8uDbAhk6tWM', 'initial_supply': '751846895153', 'decimals': 6, 'mint': 'HZ1JovNiVvGrGNiiYvEozEVgZ58xaU3RKwX8eACQBCt3'}\n",
      "{'token_address': 'HZ1JovNiVvGrGNiiYvEozEVgZ58xaU3RKwX8eACQBCt3', 'owner': '8erNF5u3CHrqZJXtkfY8CjSxFYF1yqHmN8uDbAhk6tWM', 'initial_supply': '751846895153', 'decimals': 6, 'mint': 'HZ1JovNiVvGrGNiiYvEozEVgZ58xaU3RKwX8eACQBCt3'}\n",
      "{'token_address': 'HZ1JovNiVvGrGNiiYvEozEVgZ58xaU3RKwX8eACQBCt3', 'owner': '8erNF5u3CHrqZJXtkfY8CjSxFYF1yqHmN8uDbAhk6tWM', 'initial_supply': '751846895153', 'decimals': 6, 'mint': 'HZ1JovNiVvGrGNiiYvEozEVgZ58xaU3RKwX8eACQBCt3'}\n",
      "{'token_address': 'HZ1JovNiVvGrGNiiYvEozEVgZ58xaU3RKwX8eACQBCt3', 'owner': '8erNF5u3CHrqZJXtkfY8CjSxFYF1yqHmN8uDbAhk6tWM', 'initial_supply': '751846895153', 'decimals': 6, 'mint': 'HZ1JovNiVvGrGNiiYvEozEVgZ58xaU3RKwX8eACQBCt3'}\n",
      "{'token_address': 'HZ1JovNiVvGrGNiiYvEozEVgZ58xaU3RKwX8eACQBCt3', 'owner': '8erNF5u3CHrqZJXtkfY8CjSxFYF1yqHmN8uDbAhk6tWM', 'initial_supply': '751846895153', 'decimals': 6, 'mint': 'HZ1JovNiVvGrGNiiYvEozEVgZ58xaU3RKwX8eACQBCt3'}\n",
      "{'token_address': '5RhoQSzKrUa8pTmtsoTmGwfdrMKkbZe2HyQ8WYXP3sFn', 'owner': '4zk8wpJb9APokt35pfcELtviTkpB2icejC7a3wNtYxWg', 'initial_supply': '70196261682242', 'decimals': 6, 'mint': '5RhoQSzKrUa8pTmtsoTmGwfdrMKkbZe2HyQ8WYXP3sFn'}\n",
      "{'token_address': 'CGhaD9uuTwNMM4k7zygmCFsZX2HXqVTYcTDR7vwrxAqq', 'owner': '47cxEtTXmdPskLRgh1o5gdE4pmBWRgWL5e9UpZybN2CK', 'initial_supply': '1', 'decimals': 0, 'mint': 'CGhaD9uuTwNMM4k7zygmCFsZX2HXqVTYcTDR7vwrxAqq'}\n",
      "{'token_address': 'CGhaD9uuTwNMM4k7zygmCFsZX2HXqVTYcTDR7vwrxAqq', 'owner': '47cxEtTXmdPskLRgh1o5gdE4pmBWRgWL5e9UpZybN2CK', 'initial_supply': '1', 'decimals': 0, 'mint': 'CGhaD9uuTwNMM4k7zygmCFsZX2HXqVTYcTDR7vwrxAqq'}\n",
      "{'token_address': '65YtG9QMN7YrZgzo73HMghEbTzi44woas2ubnwVxwDTy', 'owner': 'zNry5RbMNn7DJLrMXe9cRv3qGocdQyehon5wZwcxtes', 'initial_supply': '194000000000000000', 'decimals': 9, 'mint': '65YtG9QMN7YrZgzo73HMghEbTzi44woas2ubnwVxwDTy'}\n",
      "{'token_address': '7wbaZ8Xttgm4rp4DjzrEeBMzWf2Hi9pjmTGu5fYjedfY', 'owner': '7icQcGhhoWMYnyXBe4ghn4JNZfbFs9M9y2AEkjQvvCfY', 'initial_supply': '1', 'decimals': 0, 'mint': '7wbaZ8Xttgm4rp4DjzrEeBMzWf2Hi9pjmTGu5fYjedfY'}\n",
      "{'token_address': '58CkLXnF4qJJ2isSToEsM3WiW5NoefMtSwKBV8szF8hd', 'owner': 'GHm2mhFyL8taCy3iftN83pYWZzCVJFuJKHziPEd7GwgN', 'initial_supply': '67062499999999', 'decimals': 6, 'mint': '58CkLXnF4qJJ2isSToEsM3WiW5NoefMtSwKBV8szF8hd'}\n",
      "{'token_address': 'Eei4XsceL2LJyVWSdVzG6q7p3K6VArY7xByk7sNmMBMi', 'owner': '7icQcGhhoWMYnyXBe4ghn4JNZfbFs9M9y2AEkjQvvCfY', 'initial_supply': '1', 'decimals': 0, 'mint': 'Eei4XsceL2LJyVWSdVzG6q7p3K6VArY7xByk7sNmMBMi'}\n",
      "{'token_address': 'DLUNTKRQt7CrpqSX1naHUYoBznJ9pvMP65uCeWQgYnRK', 'owner': '2qZspPDNGSrLYuZaG8wtj32zvs6QYYj9sBpT4phE17tF', 'initial_supply': '43573472931', 'decimals': 6, 'mint': 'DLUNTKRQt7CrpqSX1naHUYoBznJ9pvMP65uCeWQgYnRK'}\n",
      "{'token_address': 'B9fX7goHR6wZgWZXxLwuqmrW9Kc8yqjz2QULzr79ZcfP', 'owner': 'FwjXByASoYkKEFtjZvkrgDUjsspSB12j9hZ83T1X87V7', 'initial_supply': '100000000000000000', 'decimals': 6, 'mint': 'B9fX7goHR6wZgWZXxLwuqmrW9Kc8yqjz2QULzr79ZcfP'}\n",
      "{'token_address': '4SLkiTkxshxrkWwLcn27RLY1cZiwoeE9MUwuoUV7xqBu', 'owner': '4aHtZQ2AG13yHXj44XpS1v9yDDAgeiZhSqR2Ph2CQe4K', 'initial_supply': '14135061787267', 'decimals': 6, 'mint': '4SLkiTkxshxrkWwLcn27RLY1cZiwoeE9MUwuoUV7xqBu'}\n",
      "\n",
      "{'token_address': '4SLkiTkxshxrkWwLcn27RLY1cZiwoeE9MUwuoUV7xqBu', 'owner': '4aHtZQ2AG13yHXj44XpS1v9yDDAgeiZhSqR2Ph2CQe4K', 'initial_supply': '14135061787267', 'decimals': 6, 'mint': '4SLkiTkxshxrkWwLcn27RLY1cZiwoeE9MUwuoUV7xqBu'}\n",
      "{'token_address': '4SLkiTkxshxrkWwLcn27RLY1cZiwoeE9MUwuoUV7xqBu', 'owner': '4aHtZQ2AG13yHXj44XpS1v9yDDAgeiZhSqR2Ph2CQe4K', 'initial_supply': '14135061787267', 'decimals': 6, 'mint': '4SLkiTkxshxrkWwLcn27RLY1cZiwoeE9MUwuoUV7xqBu'}\n",
      "{'token_address': 'CCAhQyxbRMc7Tcr1kvR2LCC4pYmH8g7jo4KVh8VewM9j', 'owner': 'EsyGpY7c7ihhMKu49UKnTd5Tn5gwF7eEiCbaMweEQqXX', 'initial_supply': '1', 'decimals': 0, 'mint': 'CCAhQyxbRMc7Tcr1kvR2LCC4pYmH8g7jo4KVh8VewM9j'}\n",
      "{'token_address': 'BwnUa8ytEyTUKw28RVe9qy2dMVKAkW16VPmXGK9B6Mnv', 'owner': '8AtacbcUmDKDugYnACsP9sAwDq2AyPxxx87Ew82gcwjG', 'initial_supply': '1', 'decimals': 0, 'mint': 'BwnUa8ytEyTUKw28RVe9qy2dMVKAkW16VPmXGK9B6Mnv'}\n",
      "{'token_address': 'BwnUa8ytEyTUKw28RVe9qy2dMVKAkW16VPmXGK9B6Mnv', 'owner': '8AtacbcUmDKDugYnACsP9sAwDq2AyPxxx87Ew82gcwjG', 'initial_supply': '1', 'decimals': 0, 'mint': 'BwnUa8ytEyTUKw28RVe9qy2dMVKAkW16VPmXGK9B6Mnv'}\n",
      "{'token_address': 'Hdq1QsbUjLhXaist7uZFpw46dKNh1g2vYReKpugdFL6Z', 'owner': 'GHm2mhFyL8taCy3iftN83pYWZzCVJFuJKHziPEd7GwgN', 'initial_supply': '67062499999999', 'decimals': 6, 'mint': 'Hdq1QsbUjLhXaist7uZFpw46dKNh1g2vYReKpugdFL6Z'}\n",
      "\n",
      "{'token_address': '9tnkusLJaycWpkzojAk5jmxkdkxBHRkFNVSsa7tPUgLb', 'owner': 'HWuu5jGxY1TG8Kzbr42mWrXPiyQPpJzCySrvwj25ptW6', 'initial_supply': '224959568', 'decimals': 5, 'mint': '9tnkusLJaycWpkzojAk5jmxkdkxBHRkFNVSsa7tPUgLb'}\n",
      "{'token_address': '8BH7saVL4Bhi3NcMkVq98Ruj4zbbV9x4VPHczaba8KuE', 'owner': '9QJR2uafNXaM7Li7FVVPr1JbeGeEaHJhSguMvDRGufMp', 'initial_supply': '1000000000000000000', 'decimals': 9, 'mint': '8BH7saVL4Bhi3NcMkVq98Ruj4zbbV9x4VPHczaba8KuE'}\n",
      "{'token_address': 'EFtFVSRvk4ni5AdpxYVgB8C7Rns6QtPkvb5WLQ6VHmuL', 'owner': 'EkLoHn5kbL8ioQrh2qCtujm1h2cRPzby6CPEwVE3kL9v', 'initial_supply': '41269230769230', 'decimals': 6, 'mint': 'EFtFVSRvk4ni5AdpxYVgB8C7Rns6QtPkvb5WLQ6VHmuL'}\n",
      "{'token_address': '7t1aTLeahSgAGpJVeTPneh7RzV6eZ1rKT8JaeCo5KvxZ', 'owner': '5tJtLEf5fvkfu6hQhCH9fm3s9j2nnjsueTcxf8iBdZte', 'initial_supply': '3564784053156', 'decimals': 6, 'mint': '7t1aTLeahSgAGpJVeTPneh7RzV6eZ1rKT8JaeCo5KvxZ'}\n",
      "{'token_address': '2fB6scWWD3x8y4HgAWojM6WuHDqwGxwL4hdkcoZuDvD7', 'owner': '3VAs9nDX6uCeyKLLHDbBvwRGTsPqq5ZYS9M1hSDR7kkm', 'initial_supply': '47840764331210', 'decimals': 6, 'mint': '2fB6scWWD3x8y4HgAWojM6WuHDqwGxwL4hdkcoZuDvD7'}\n",
      "{'token_address': 'B3vHB4WFBtLP3wgFxruNZjw4amwcXKeGPUeLCpatGEH9', 'owner': 'BxUekQdc1pydQDkGWdyFHF8zUgjD1AujvhxGq2SVgK6H', 'initial_supply': '1', 'decimals': 0, 'mint': 'B3vHB4WFBtLP3wgFxruNZjw4amwcXKeGPUeLCpatGEH9'}\n",
      "\n",
      "{'token_address': '7GCihgDB8fe6KNjn2MYtkzZcRjQy3t9GHdC8uHYmW2hr', 'owner': '53nb67RHfUyfFD8BYUQrnx1A5Ro69aw14bYEaKQzzCed', 'initial_supply': '2392617073598193', 'decimals': 9, 'mint': '7GCihgDB8fe6KNjn2MYtkzZcRjQy3t9GHdC8uHYmW2hr'}\n",
      "{'token_address': 'GYKnXNr27XM6wfk8g4am1iv7XKtsRU68Py6QoPx9T8rV', 'owner': 'BxUekQdc1pydQDkGWdyFHF8zUgjD1AujvhxGq2SVgK6H', 'initial_supply': '1', 'decimals': 0, 'mint': 'GYKnXNr27XM6wfk8g4am1iv7XKtsRU68Py6QoPx9T8rV'}\n",
      "{'token_address': 'GYKnXNr27XM6wfk8g4am1iv7XKtsRU68Py6QoPx9T8rV', 'owner': 'BxUekQdc1pydQDkGWdyFHF8zUgjD1AujvhxGq2SVgK6H', 'initial_supply': '1', 'decimals': 0, 'mint': 'GYKnXNr27XM6wfk8g4am1iv7XKtsRU68Py6QoPx9T8rV'}\n",
      "{'token_address': '3NMcftHDHH9BtTthucQmvDcoUtiBKn7wKUCB1yagr4r2', 'owner': 'AyihYVV5P4dd9uLs4bbCM8YSkNzr2yLFuD6qNKbP2Lc8', 'initial_supply': '10000000000000000', 'decimals': 9, 'mint': '3NMcftHDHH9BtTthucQmvDcoUtiBKn7wKUCB1yagr4r2'}\n",
      "{'token_address': '4ig6Xy855iyKNirXnWdyQ5B1LnQNQ6vfij7Y2EEkbcrY', 'owner': '9JDTYP5cbVURzcZsep5F1fEnJGKKacgFqzndNbDHvVwP', 'initial_supply': '67062499999999', 'decimals': 6, 'mint': '4ig6Xy855iyKNirXnWdyQ5B1LnQNQ6vfij7Y2EEkbcrY'}\n",
      "{'token_address': '3PQXw1QDPJbzfhzqfa2Bby9yqHFuhYHaJkE9B9zqzF5c', 'owner': 'BKMgh6yy27uVZQJxtNYQADv3P1sm93PC1MvpUTAX9ktP', 'initial_supply': '1', 'decimals': 0, 'mint': '3PQXw1QDPJbzfhzqfa2Bby9yqHFuhYHaJkE9B9zqzF5c'}\n",
      "\n",
      "{'token_address': '2SqHrond2uTpmodWPhkKyDRF3RDLCDJPuQhWGRX3yRmW', 'owner': 'BxUekQdc1pydQDkGWdyFHF8zUgjD1AujvhxGq2SVgK6H', 'initial_supply': '1', 'decimals': 0, 'mint': '2SqHrond2uTpmodWPhkKyDRF3RDLCDJPuQhWGRX3yRmW'}\n",
      "{'token_address': 'So11111111111111111111111111111111111111112', 'owner': '2QdhepnKRTLjjSqPL1PtKNwqrUkoLee5Gqs8bvZhRdMv', 'initial_supply': '14123404934406', 'decimals': 9, 'mint': 'So11111111111111111111111111111111111111112'}\n",
      "{'token_address': 'EPjFWdd5AufqSSqeM2qN1xzybapC8G4wEGGkZwyTDt1v', 'owner': '7qbRF6YsyGuLUVs6Y1q64bdVrfe4ZcUUz1JRdoVNUJnm', 'initial_supply': '472633037253', 'decimals': 6, 'mint': 'EPjFWdd5AufqSSqeM2qN1xzybapC8G4wEGGkZwyTDt1v'}\n",
      "{'token_address': 'So11111111111111111111111111111111111111112', 'owner': '7nLipEZ6TaHph9AyiKDyUWP5GVVSUwnuC9e9wDuYqCjP', 'initial_supply': '33', 'decimals': 9, 'mint': 'So11111111111111111111111111111111111111112'}\n",
      "{'token_address': 'So11111111111111111111111111111111111111112', 'owner': 'CUUA24UDg42Gs7BfxoeTdqEbcddj77ogYuk5zpqTjddX', 'initial_supply': '54', 'decimals': 9, 'mint': 'So11111111111111111111111111111111111111112'}\n",
      "{'token_address': 'So11111111111111111111111111111111111111112', 'owner': '7nLipEZ6TaHph9AyiKDyUWP5GVVSUwnuC9e9wDuYqCjP', 'initial_supply': '33', 'decimals': 9, 'mint': 'So11111111111111111111111111111111111111112'}\n",
      "\n",
      "{'token_address': 'So11111111111111111111111111111111111111112', 'owner': 'CUUA24UDg42Gs7BfxoeTdqEbcddj77ogYuk5zpqTjddX', 'initial_supply': '54', 'decimals': 9, 'mint': 'So11111111111111111111111111111111111111112'}\n",
      "{'token_address': 'jtojtomepa8beP8AuQc6eXt5FriJwfFMwQx2v2f9mCL', 'owner': '7YHgwCBQLBkL51V26X31GUiebYchLDHzyTkVBJ1ZpwXL', 'initial_supply': '69719547', 'decimals': 9, 'mint': 'jtojtomepa8beP8AuQc6eXt5FriJwfFMwQx2v2f9mCL'}\n",
      "{'token_address': 'jtojtomepa8beP8AuQc6eXt5FriJwfFMwQx2v2f9mCL', 'owner': '7YHgwCBQLBkL51V26X31GUiebYchLDHzyTkVBJ1ZpwXL', 'initial_supply': '69719547', 'decimals': 9, 'mint': 'jtojtomepa8beP8AuQc6eXt5FriJwfFMwQx2v2f9mCL'}\n",
      "{'token_address': 'BLZEEuZUBVqFhj8adcCFPJvPVCiCyVmh3hkJMrU8KuJA', 'owner': '7BSbaAbtU1FQDhcjQGALQg5qeXE3v1zg3fdbA6jTi3to', 'initial_supply': '14617817973', 'decimals': 9, 'mint': 'BLZEEuZUBVqFhj8adcCFPJvPVCiCyVmh3hkJMrU8KuJA'}\n",
      "{'token_address': 'HZ1JovNiVvGrGNiiYvEozEVgZ58xaU3RKwX8eACQBCt3', 'owner': '9n3dSLrERZQp95dHXywft7xV8D8xnGFLaUHtEhQVaXaC', 'initial_supply': '1261072237476', 'decimals': 6, 'mint': 'HZ1JovNiVvGrGNiiYvEozEVgZ58xaU3RKwX8eACQBCt3'}\n",
      "{'token_address': '947tEoG318GUmyjVYhraNRvWpMX7fpBTDQFBoJvSkSG3', 'owner': 'DCuVAixyLkvgyLCNp1zkgDVGmZRorf7gkg2yqqfbGbYX', 'initial_supply': '18601760661596', 'decimals': 9, 'mint': '947tEoG318GUmyjVYhraNRvWpMX7fpBTDQFBoJvSkSG3'}\n",
      "\n",
      "{'token_address': '947tEoG318GUmyjVYhraNRvWpMX7fpBTDQFBoJvSkSG3', 'owner': 'DCuVAixyLkvgyLCNp1zkgDVGmZRorf7gkg2yqqfbGbYX', 'initial_supply': '18601760661596', 'decimals': 9, 'mint': '947tEoG318GUmyjVYhraNRvWpMX7fpBTDQFBoJvSkSG3'}\n",
      "{'token_address': '947tEoG318GUmyjVYhraNRvWpMX7fpBTDQFBoJvSkSG3', 'owner': 'DCuVAixyLkvgyLCNp1zkgDVGmZRorf7gkg2yqqfbGbYX', 'initial_supply': '18601760661596', 'decimals': 9, 'mint': '947tEoG318GUmyjVYhraNRvWpMX7fpBTDQFBoJvSkSG3'}\n",
      "{'token_address': '947tEoG318GUmyjVYhraNRvWpMX7fpBTDQFBoJvSkSG3', 'owner': 'DCuVAixyLkvgyLCNp1zkgDVGmZRorf7gkg2yqqfbGbYX', 'initial_supply': '18601760661596', 'decimals': 9, 'mint': '947tEoG318GUmyjVYhraNRvWpMX7fpBTDQFBoJvSkSG3'}\n",
      "{'token_address': '947tEoG318GUmyjVYhraNRvWpMX7fpBTDQFBoJvSkSG3', 'owner': 'DCuVAixyLkvgyLCNp1zkgDVGmZRorf7gkg2yqqfbGbYX', 'initial_supply': '18601760661596', 'decimals': 9, 'mint': '947tEoG318GUmyjVYhraNRvWpMX7fpBTDQFBoJvSkSG3'}\n",
      "{'token_address': '8ojLz4XJwvAG2HkoKiEH6zbBMALBeSrtZa6RrBZZonCZ', 'owner': '6Ao32Gr2P98sny8vbnvGuAYdeJhtk9L6EYAhQbf5GMcR', 'initial_supply': '278280001000000', 'decimals': 9, 'mint': '8ojLz4XJwvAG2HkoKiEH6zbBMALBeSrtZa6RrBZZonCZ'}\n",
      "{'token_address': '8ojLz4XJwvAG2HkoKiEH6zbBMALBeSrtZa6RrBZZonCZ', 'owner': '6Ao32Gr2P98sny8vbnvGuAYdeJhtk9L6EYAhQbf5GMcR', 'initial_supply': '278280001000000', 'decimals': 9, 'mint': '8ojLz4XJwvAG2HkoKiEH6zbBMALBeSrtZa6RrBZZonCZ'}\n",
      "\n",
      "{'token_address': 'G3nikMUpnhKU1a19Rh4NxssnhzCSk8EhZd7np3gmz8W3', 'owner': 'EMGkP3PQNQBfoYqr1ZAzrmNnxV1KXtbGFRdVsSG5Gsgq', 'initial_supply': '1', 'decimals': 0, 'mint': 'G3nikMUpnhKU1a19Rh4NxssnhzCSk8EhZd7np3gmz8W3'}\n",
      "{'token_address': 'G3nikMUpnhKU1a19Rh4NxssnhzCSk8EhZd7np3gmz8W3', 'owner': 'EMGkP3PQNQBfoYqr1ZAzrmNnxV1KXtbGFRdVsSG5Gsgq', 'initial_supply': '1', 'decimals': 0, 'mint': 'G3nikMUpnhKU1a19Rh4NxssnhzCSk8EhZd7np3gmz8W3'}\n",
      "{'token_address': 'GeoGQ6TFsGhhLXSPZUs1rfgZSsBqQ1TXARKNkhRMwFMo', 'owner': 'CMk9w8nRytvkvwxppSEC6VmNETDYxvjtsZN6BEG5DygP', 'initial_supply': '1', 'decimals': 0, 'mint': 'GeoGQ6TFsGhhLXSPZUs1rfgZSsBqQ1TXARKNkhRMwFMo'}\n",
      "{'token_address': 'GRbXVk1qpYon67JUvh3jnLDKx8WVJpuVc1Gat8zBAmd8', 'owner': 'RLwGojWHHgLPk82dPf5F7xWwwxywBsK5cvu5mesrPR1', 'initial_supply': '1', 'decimals': 0, 'mint': 'GRbXVk1qpYon67JUvh3jnLDKx8WVJpuVc1Gat8zBAmd8'}\n",
      "{'token_address': '85VBFQZC9TZkfaptBWjvUw7YbZjy52A6mjtPGjstQAmQ', 'owner': 'E5tLAoEfH9LSYtw2x8i82JuDj5Gd2S6ZZFx4KB4xWqE', 'initial_supply': '99897866781', 'decimals': 6, 'mint': '85VBFQZC9TZkfaptBWjvUw7YbZjy52A6mjtPGjstQAmQ'}\n",
      "{'token_address': '7R6wNcGYqNVz28dPwocpUpkyrsjq9ngKh1yyLH64ijPa', 'owner': '9JuYKWshMj7csHFbjjH7g3sLurV9qpetHq9xKqLGoHUm', 'initial_supply': '1', 'decimals': 0, 'mint': '7R6wNcGYqNVz28dPwocpUpkyrsjq9ngKh1yyLH64ijPa'}\n",
      "\n",
      "{'token_address': 'AMjzRn1TBQwQfNAjHFeBb7uGbbqbJB7FzXAnGgdFPk6K', 'owner': '7eTTyVnA3Lz8pvW3qt8kS8buVu4825BUwbPbKbkDrert', 'initial_supply': '928679684054', 'decimals': 6, 'mint': 'AMjzRn1TBQwQfNAjHFeBb7uGbbqbJB7FzXAnGgdFPk6K'}\n",
      "{'token_address': 'AMjzRn1TBQwQfNAjHFeBb7uGbbqbJB7FzXAnGgdFPk6K', 'owner': '7eTTyVnA3Lz8pvW3qt8kS8buVu4825BUwbPbKbkDrert', 'initial_supply': '928679684054', 'decimals': 6, 'mint': 'AMjzRn1TBQwQfNAjHFeBb7uGbbqbJB7FzXAnGgdFPk6K'}\n",
      "{'token_address': 'EPjFWdd5AufqSSqeM2qN1xzybapC8G4wEGGkZwyTDt1v', 'owner': '9RYakf2xgbUTdrM6XGCX1KRVU3dsAvAFnHV24Wb7c5Zb', 'initial_supply': '99690234251', 'decimals': 6, 'mint': 'EPjFWdd5AufqSSqeM2qN1xzybapC8G4wEGGkZwyTDt1v'}\n",
      "{'token_address': 'DmViYPAcbXXnoBE1B8htSERj2VdfewhxzG6oSPUxLzJA', 'owner': 'BBvkgdJE2NsoMa6b6cozYu8Jz7PwTSRwqa39XPP4u1Pm', 'initial_supply': '1000000000000000000', 'decimals': 9, 'mint': 'DmViYPAcbXXnoBE1B8htSERj2VdfewhxzG6oSPUxLzJA'}\n",
      "{'token_address': 'EPjFWdd5AufqSSqeM2qN1xzybapC8G4wEGGkZwyTDt1v', 'owner': '9RYakf2xgbUTdrM6XGCX1KRVU3dsAvAFnHV24Wb7c5Zb', 'initial_supply': '99690234251', 'decimals': 6, 'mint': 'EPjFWdd5AufqSSqeM2qN1xzybapC8G4wEGGkZwyTDt1v'}\n",
      "{'token_address': 'DmViYPAcbXXnoBE1B8htSERj2VdfewhxzG6oSPUxLzJA', 'owner': 'BBvkgdJE2NsoMa6b6cozYu8Jz7PwTSRwqa39XPP4u1Pm', 'initial_supply': '1000000000000000000', 'decimals': 9, 'mint': 'DmViYPAcbXXnoBE1B8htSERj2VdfewhxzG6oSPUxLzJA'}\n",
      "\n",
      "{'token_address': '48e2uh2Be6AS5ixwA2DL78cbZsYDbZCb27hGUmPgNnXg', 'owner': 'Aqzzky9gVmWi2SPaEBTnNtoDSVEpeYnPSyjmRBh456ZS', 'initial_supply': '1', 'decimals': 0, 'mint': '48e2uh2Be6AS5ixwA2DL78cbZsYDbZCb27hGUmPgNnXg'}\n",
      "{'token_address': 'HaP8r3ksG76PhQLTqR8FYBeNiQpejcFbQmiHbg787Ut1', 'owner': '7m4HiA2ARD1WN3QbrXqwq4ocPcvuaXHq7XqetGzRpCu8', 'initial_supply': '1168842557152', 'decimals': 8, 'mint': 'HaP8r3ksG76PhQLTqR8FYBeNiQpejcFbQmiHbg787Ut1'}\n",
      "{'token_address': '4Z2kx3VSmXNeKKZTeNMWWMLsY1eY7ve3b3v3iohfomoQ', 'owner': 'A88Vz3DKawTrvSXYkuba5Nik3VsfJcU113VRU5CgE64', 'initial_supply': '67121997919', 'decimals': 6, 'mint': '4Z2kx3VSmXNeKKZTeNMWWMLsY1eY7ve3b3v3iohfomoQ'}\n",
      "{'token_address': 'HCfBVcaHKfhz1CbHZXRhMnf2ChPkxjr6Kt4jaf74whta', 'owner': '9e5KoyZJQtFR5uG6e59XmCZkU9wB61DfsEdymza9LZAr', 'initial_supply': '67062499999999', 'decimals': 6, 'mint': 'HCfBVcaHKfhz1CbHZXRhMnf2ChPkxjr6Kt4jaf74whta'}\n",
      "{'token_address': 'HCfBVcaHKfhz1CbHZXRhMnf2ChPkxjr6Kt4jaf74whta', 'owner': '9e5KoyZJQtFR5uG6e59XmCZkU9wB61DfsEdymza9LZAr', 'initial_supply': '67062499999999', 'decimals': 6, 'mint': 'HCfBVcaHKfhz1CbHZXRhMnf2ChPkxjr6Kt4jaf74whta'}\n",
      "{'token_address': 'HTA6NCjWnR83ZRdngm1ntt3qERgwwruy25Fe7ybyYC7s', 'owner': 'BqtHE6dEbj5kNG7tMRghSgf118rw56edxNW3FYpqFGQq', 'initial_supply': '1', 'decimals': 0, 'mint': 'HTA6NCjWnR83ZRdngm1ntt3qERgwwruy25Fe7ybyYC7s'}\n",
      "\n",
      "{'token_address': '75xfLWAsaqD4AKqxHnVPBEWCWSh4wL81EZkzwdSbjNdi', 'owner': '5BRLgW4qz668XJ2CiHPvQCa7B1LDFkmXDVTX8tBLaZjd', 'initial_supply': '10000000000000000000', 'decimals': 9, 'mint': '75xfLWAsaqD4AKqxHnVPBEWCWSh4wL81EZkzwdSbjNdi'}\n",
      "{'token_address': '75xfLWAsaqD4AKqxHnVPBEWCWSh4wL81EZkzwdSbjNdi', 'owner': '5BRLgW4qz668XJ2CiHPvQCa7B1LDFkmXDVTX8tBLaZjd', 'initial_supply': '10000000000000000000', 'decimals': 9, 'mint': '75xfLWAsaqD4AKqxHnVPBEWCWSh4wL81EZkzwdSbjNdi'}\n",
      "{'token_address': '75xfLWAsaqD4AKqxHnVPBEWCWSh4wL81EZkzwdSbjNdi', 'owner': '5BRLgW4qz668XJ2CiHPvQCa7B1LDFkmXDVTX8tBLaZjd', 'initial_supply': '10000000000000000000', 'decimals': 9, 'mint': '75xfLWAsaqD4AKqxHnVPBEWCWSh4wL81EZkzwdSbjNdi'}\n",
      "{'token_address': '75xfLWAsaqD4AKqxHnVPBEWCWSh4wL81EZkzwdSbjNdi', 'owner': '5BRLgW4qz668XJ2CiHPvQCa7B1LDFkmXDVTX8tBLaZjd', 'initial_supply': '10000000000000000000', 'decimals': 9, 'mint': '75xfLWAsaqD4AKqxHnVPBEWCWSh4wL81EZkzwdSbjNdi'}\n",
      "{'token_address': '75xfLWAsaqD4AKqxHnVPBEWCWSh4wL81EZkzwdSbjNdi', 'owner': '5BRLgW4qz668XJ2CiHPvQCa7B1LDFkmXDVTX8tBLaZjd', 'initial_supply': '10000000000000000000', 'decimals': 9, 'mint': '75xfLWAsaqD4AKqxHnVPBEWCWSh4wL81EZkzwdSbjNdi'}\n",
      "{'token_address': '75xfLWAsaqD4AKqxHnVPBEWCWSh4wL81EZkzwdSbjNdi', 'owner': '5BRLgW4qz668XJ2CiHPvQCa7B1LDFkmXDVTX8tBLaZjd', 'initial_supply': '10000000000000000000', 'decimals': 9, 'mint': '75xfLWAsaqD4AKqxHnVPBEWCWSh4wL81EZkzwdSbjNdi'}\n",
      "{'token_address': 'ByewT5KmFKoyLevbJE1wt9XMvoteX2Cz8wZwZdxQEEmR', 'owner': 'AJZrXResoeKQNUSExic7VrRk6EKHSHYP8oaFDnjknWo3', 'initial_supply': '1', 'decimals': 0, 'mint': 'ByewT5KmFKoyLevbJE1wt9XMvoteX2Cz8wZwZdxQEEmR'}\n",
      "{'token_address': 'E1kvzJNxShvvWTrudokpzuc789vRiDXfXG3duCuY6ooE', 'owner': '2SQB6SN4ssqGCDsCywTeutL3QfWhcMpfe8yTDo6Y6THF', 'initial_supply': '103588436149161', 'decimals': 9, 'mint': 'E1kvzJNxShvvWTrudokpzuc789vRiDXfXG3duCuY6ooE'}\n",
      "{'token_address': 'EPjFWdd5AufqSSqeM2qN1xzybapC8G4wEGGkZwyTDt1v', 'owner': '6ACR3h9ZWnbX727vCTmnMvHcw5djmpaKx5UijVtV52XU', 'initial_supply': '8397254511', 'decimals': 6, 'mint': 'EPjFWdd5AufqSSqeM2qN1xzybapC8G4wEGGkZwyTDt1v'}\n",
      "{'token_address': '76EhhsjhRWzfzvrhURwkH1PohonbydxRRxicFYHwsVTx', 'owner': 'EBjRUL3RkC2HRr43AcV2j2DXJRE9R8dRxeGR1hx8yZP4', 'initial_supply': '1', 'decimals': 0, 'mint': '76EhhsjhRWzfzvrhURwkH1PohonbydxRRxicFYHwsVTx'}\n",
      "{'token_address': '78K41Qt9RyznkjVFxwotKviqfENhuXH6ycUqyVEPLLVM', 'owner': '4GykGAWro29NQAetfCXZxj1W8mkNaLxtdxo1sUfT2Q6n', 'initial_supply': '34612903225806', 'decimals': 6, 'mint': '78K41Qt9RyznkjVFxwotKviqfENhuXH6ycUqyVEPLLVM'}\n",
      "{'token_address': '8GCTYRcxtzRd49Xqik8pARRMnjkRrTeYjwm1VauM3UPY', 'owner': '4cXng861R3WNRQUcN1nnmtcdiCiBpypxW6FKtN6rtF2v', 'initial_supply': '1', 'decimals': 0, 'mint': '8GCTYRcxtzRd49Xqik8pARRMnjkRrTeYjwm1VauM3UPY'}\n",
      "{'token_address': '9dk3b7yXoAtUjS4bgtHoEfbfKidSMcQyC6vRLRiygFaP', 'owner': '33PEiHRjdAo3BMF2ZKP6NXpoUx4Lf1coa5RQH3MsTCUZ', 'initial_supply': '51095238095238', 'decimals': 6, 'mint': '9dk3b7yXoAtUjS4bgtHoEfbfKidSMcQyC6vRLRiygFaP'}\n"
     ]
    }
   ],
   "source": [
    "# read data.txt and get all signatures\n",
    "with open(\"../../data.txt\", \"r\") as f:\n",
    "    data = f.readlines()\n",
    "    for line in data:\n",
    "        sig = Signature.from_string(line.strip())\n",
    "        def do():\n",
    "            print(token_meta_from_transaction(sig))\n",
    "        try:\n",
    "            do()\n",
    "        except Exception as e:\n",
    "            print(e)\n",
    "            sleep(1)\n",
    "            do()\n",
    "\n",
    "\n",
    "        \n"
   ]
  },
  {
   "cell_type": "code",
   "execution_count": null,
   "metadata": {},
   "outputs": [],
   "source": []
  },
  {
   "cell_type": "code",
   "execution_count": null,
   "metadata": {},
   "outputs": [],
   "source": []
  }
 ],
 "metadata": {
  "kernelspec": {
   "display_name": "Python 3",
   "language": "python",
   "name": "python3"
  },
  "language_info": {
   "codemirror_mode": {
    "name": "ipython",
    "version": 3
   },
   "file_extension": ".py",
   "mimetype": "text/x-python",
   "name": "python",
   "nbconvert_exporter": "python",
   "pygments_lexer": "ipython3",
   "version": "3.11.7"
  }
 },
 "nbformat": 4,
 "nbformat_minor": 2
}
